{
 "cells": [
  {
   "cell_type": "code",
   "execution_count": 1,
   "metadata": {},
   "outputs": [],
   "source": [
    "import pya\n",
    "from predefined import MZI_Broadband_DC"
   ]
  },
  {
   "cell_type": "code",
   "execution_count": 2,
   "metadata": {},
   "outputs": [
    {
     "name": "stdout",
     "output_type": "stream",
     "text": [
      "Wrote to example_mask.gds\n"
     ]
    }
   ],
   "source": [
    "layout = pya.Layout()\n",
    "dbu = layout.dbu = 0.001\n",
    "TOP = layout.create_cell(\"TOP\")\n",
    "\n",
    "origin = pya.DPoint(0, 0)\n",
    "ex = pya.DVector(1, 0)\n",
    "ey = pya.DVector(0, 1)\n",
    "\n",
    "MZI_Broadband_DC(\"test\").place_cell(TOP, origin)\n",
    "print(\"Wrote to example_mask.gds\")\n",
    "layout.write(\"example_mask.gds\")"
   ]
  },
  {
   "cell_type": "code",
   "execution_count": 6,
   "metadata": {},
   "outputs": [],
   "source": [
    "import os\n",
    "EBeam = Tech.load_from_xml(\"EBeam.lyp\")"
   ]
  },
  {
   "cell_type": "code",
   "execution_count": 10,
   "metadata": {},
   "outputs": [
    {
     "data": {
      "text/plain": [
       "{'Si': Si (1/0),\n",
       " '31_Si_p6nm': '31_Si_p6nm' (31/0),\n",
       " 'Text': Text (10/0),\n",
       " 'Si N': 'Si N' (20/0),\n",
       " 'Si N++': 'Si N++' (24/0),\n",
       " 'SEM': SEM (200/0),\n",
       " 'M1': M1 (41/0),\n",
       " '12_M2': '12_M2' (12/0),\n",
       " '13_MLopen': '13_MLopen' (13/0),\n",
       " 'VC': VC (40/0),\n",
       " 'M Heater': 'M Heater' (47/0),\n",
       " 'FloorPlan': FloorPlan (99/0),\n",
       " 'DevRec': DevRec (68/0),\n",
       " 'PinRec': PinRec (1/10),\n",
       " 'FbrTgt': FbrTgt (81/0),\n",
       " 'Errors': Errors (999/0),\n",
       " 'Lumerical': Lumerical (733/0),\n",
       " 'Waveguide': Waveguide (1/0)}"
      ]
     },
     "execution_count": 10,
     "metadata": {},
     "output_type": "execute_result"
    }
   ],
   "source": [
    "EBeam.layers"
   ]
  },
  {
   "cell_type": "code",
   "execution_count": 12,
   "metadata": {},
   "outputs": [
    {
     "name": "stdout",
     "output_type": "stream",
     "text": [
      "define_param(\"Si\", TypeLayer, \"Si (1/0)\", default=TECHLAYERS[\"Si\"]),\n",
      "define_param(\"31_Si_p6nm\", TypeLayer, \"'31_Si_p6nm' (31/0)\", default=TECHLAYERS[\"31_Si_p6nm\"]),\n",
      "define_param(\"Text\", TypeLayer, \"Text (10/0)\", default=TECHLAYERS[\"Text\"]),\n",
      "define_param(\"Si N\", TypeLayer, \"'Si N' (20/0)\", default=TECHLAYERS[\"Si N\"]),\n",
      "define_param(\"Si N++\", TypeLayer, \"'Si N++' (24/0)\", default=TECHLAYERS[\"Si N++\"]),\n",
      "define_param(\"SEM\", TypeLayer, \"SEM (200/0)\", default=TECHLAYERS[\"SEM\"]),\n",
      "define_param(\"M1\", TypeLayer, \"M1 (41/0)\", default=TECHLAYERS[\"M1\"]),\n",
      "define_param(\"12_M2\", TypeLayer, \"'12_M2' (12/0)\", default=TECHLAYERS[\"12_M2\"]),\n",
      "define_param(\"13_MLopen\", TypeLayer, \"'13_MLopen' (13/0)\", default=TECHLAYERS[\"13_MLopen\"]),\n",
      "define_param(\"VC\", TypeLayer, \"VC (40/0)\", default=TECHLAYERS[\"VC\"]),\n",
      "define_param(\"M Heater\", TypeLayer, \"'M Heater' (47/0)\", default=TECHLAYERS[\"M Heater\"]),\n",
      "define_param(\"FloorPlan\", TypeLayer, \"FloorPlan (99/0)\", default=TECHLAYERS[\"FloorPlan\"]),\n",
      "define_param(\"DevRec\", TypeLayer, \"DevRec (68/0)\", default=TECHLAYERS[\"DevRec\"]),\n",
      "define_param(\"PinRec\", TypeLayer, \"PinRec (1/10)\", default=TECHLAYERS[\"PinRec\"]),\n",
      "define_param(\"FbrTgt\", TypeLayer, \"FbrTgt (81/0)\", default=TECHLAYERS[\"FbrTgt\"]),\n",
      "define_param(\"Errors\", TypeLayer, \"Errors (999/0)\", default=TECHLAYERS[\"Errors\"]),\n",
      "define_param(\"Lumerical\", TypeLayer, \"Lumerical (733/0)\", default=TECHLAYERS[\"Lumerical\"]),\n",
      "define_param(\"Waveguide\", TypeLayer, \"Waveguide (1/0)\", default=TECHLAYERS[\"Waveguide\"]),\n"
     ]
    }
   ],
   "source": [
    "for key, value in EBeam.layers.items():\n",
    "    print(f'define_param(\"{key}\", TypeLayer, \"{value}\", default=TECHLAYERS[\"{key}\"]),')"
   ]
  },
  {
   "cell_type": "code",
   "execution_count": null,
   "metadata": {},
   "outputs": [],
   "source": []
  }
 ],
 "metadata": {
  "hide_input": false,
  "kernelspec": {
   "display_name": "Python 3",
   "language": "python",
   "name": "python3"
  },
  "language_info": {
   "codemirror_mode": {
    "name": "ipython",
    "version": 3
   },
   "file_extension": ".py",
   "mimetype": "text/x-python",
   "name": "python",
   "nbconvert_exporter": "python",
   "pygments_lexer": "ipython3",
   "version": "3.7.4"
  }
 },
 "nbformat": 4,
 "nbformat_minor": 2
}
