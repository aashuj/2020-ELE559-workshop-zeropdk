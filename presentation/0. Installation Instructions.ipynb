{
 "cells": [
  {
   "cell_type": "markdown",
   "metadata": {
    "slideshow": {
     "slide_type": "slide"
    }
   },
   "source": [
    "# Layout automation with python\n",
    "\n",
    "## Thomas Ferreira de Lima\n",
    "### Oct 31st, 2019"
   ]
  },
  {
   "cell_type": "markdown",
   "metadata": {
    "slideshow": {
     "slide_type": "slide"
    }
   },
   "source": [
    "# Installation Instructions (Simple)\n",
    "\n",
    "## Docker\n",
    "\n",
    "I have prepared a docker container with all the necessary packages pre-installed. It is compatible with all OS and runs isolated from your installation.\n"
   ]
  },
  {
   "cell_type": "markdown",
   "metadata": {
    "slideshow": {
     "slide_type": "subslide"
    }
   },
   "source": [
    "### 1. Download Docker:\n",
    "- Mac: https://download.docker.com/mac/stable/Docker.dmg\n",
    "- Windows: https://download.docker.com/win/stable/Docker%20for%20Windows%20Installer.exe\n",
    "    + **Note:** on Windows, the installation will require you to **sign out** and sign in, so save all your work!\n"
   ]
  },
  {
   "cell_type": "markdown",
   "metadata": {
    "slideshow": {
     "slide_type": "subslide"
    }
   },
   "source": [
    "### 2. Install Docker\n",
    "\n",
    "The first time you start Docker it will pop up a dialog telling you you need an account. You do **not** need an account. Close the dialog that tells you this: Docker is already running and fully functional. There are [thousands of people](https://github.com/docker/docker.github.io/issues/6910) complaining about the fact that they try to force you to login in order to download/use it."
   ]
  },
  {
   "cell_type": "markdown",
   "metadata": {
    "slideshow": {
     "slide_type": "subslide"
    }
   },
   "source": [
    "\n",
    "### 3. Pull docker image from docker.io\n",
    "\n",
    "Open your command line terminal (cmd in Windows) and type:\n",
    "\n",
    "```bash\n",
    "docker pull felimath/zeropdk\n",
    "```\n",
    "\n",
    "You can check the Docker Image with\n",
    "\n",
    "```bash\n",
    "docker images\n",
    "```\n",
    "\n",
    "It should show:\n",
    "\n",
    "```\n",
    "REPOSITORY                 TAG                 IMAGE ID            CREATED             SIZE\n",
    "felimath/zeropdk           latest              ee53a51120d1        17 hours ago        1.42GB\n",
    "...\n",
    "```\n"
   ]
  },
  {
   "cell_type": "markdown",
   "metadata": {
    "slideshow": {
     "slide_type": "slide"
    }
   },
   "source": [
    "# Installation Instructions (Advanced)\n",
    "\n",
    "## Python 3\n",
    "I write all my scripts using python 3.6+ in mind. I did not pay special attention to backwards compatibility with earlier versions. Fixing syntax bugs should be straightforward if you are experienced with python. If you need to use the packages or demos presented here, feel free to submit a pull request to the relevant repositories.\n",
    "\n",
    "## KLayout\n",
    "[KLayout](https://www.klayout.de) is an open-source viewer and editor of IC layout files. It has a programming interface with Python and Ruby programming lanaguages. Recently, a pip package was released for the following python distributions:\n",
    "\n",
    "| OS | Python Version |\n",
    "| --- | --- |\n",
    "| macOS 10.11+ | 2.7, 3.7 |\n",
    "| macOS 10.13+ | 3.5, 3.6 |\n",
    "| linux x64, x32 | 2.7, 3.5, 3.6, 3.6 |\n",
    "| win32, win64 | 3.5, 3.6, 3.7 |\n",
    "\n",
    "*Note for advanced users:* You can attempt to build klayout from source by running `python setup.py install` on the cloned folder from [klayout's github repo](https://github.com/KLayout/klayout).\n",
    "\n",
    "## Zeropdk\n",
    "Zeropdk is a python opensource package with basic tools for photonics layout based on the klayout database engine. It is akin to SiEPIC-tools but it was written so that it could be compatible with any foundry's layer stacks. It can also be installed with pip via `pip install zeropdk`. Alternatively, install from source via [the github repo](https://github.com/lightwave-lab/zeropdk). Documentation is scarce at the moment but hopefully this workshop will be a good start.\n",
    "\n",
    "## Meta: Adapting the docker container to your demo\n",
    "If you like Docker and want to build your own Docker image (opensource or closed source), I put the recipe (called *Dockerfile*) inside the `docker-image` folder."
   ]
  }
 ],
 "metadata": {
  "celltoolbar": "Slideshow",
  "hide_input": false,
  "kernelspec": {
   "display_name": "Python 3",
   "language": "python",
   "name": "python3"
  },
  "language_info": {
   "codemirror_mode": {
    "name": "ipython",
    "version": 3
   },
   "file_extension": ".py",
   "mimetype": "text/x-python",
   "name": "python",
   "nbconvert_exporter": "python",
   "pygments_lexer": "ipython3",
   "version": "3.7.4"
  }
 },
 "nbformat": 4,
 "nbformat_minor": 2
}
